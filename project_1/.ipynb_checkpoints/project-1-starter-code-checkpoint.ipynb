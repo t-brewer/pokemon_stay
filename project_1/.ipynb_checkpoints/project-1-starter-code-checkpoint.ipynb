{
 "cells": [
  {
   "cell_type": "markdown",
   "metadata": {},
   "source": [
    "# Thomas Brewer - Project 1 : Pokemon Stay\n",
    "\n",
    "This is my project submission, with all questions answered.  Some questions I did a little differently than the instructions.  The reasons for those changes are specified in added Markdown cells with header **Change**, located in the cell before the answer.  Additional notes, that I feel are worth emphasizing are placed in cells with header **Added Note**.  Actual code comments are still located in Pythyon cells"
   ]
  },
  {
   "cell_type": "markdown",
   "metadata": {},
   "source": [
    "<img src=\"http://imgur.com/1ZcRyrc.png\" style=\"float: left; margin: 15px; height: 80px\">\n",
    "\n",
    "# Project 1\n",
    "\n",
    "### Building \"Pokemon Stay\"\n",
    "\n",
    "---\n",
    "You are an analyst at a \"scrappy\" online gaming company that specializes in remakes of last year's fads.\n",
    "\n",
    "Your boss, who runs the product development team, is convinced that Pokemon Go's fatal flaw was that you had to actually move around outside. She has design mock-ups for a new game called Pokemon Stay: in this version players still need to move, but just from website to website. Pokemon gyms are now popular online destinations, and catching Pokemon in the \"wild\" simply requires browsing the internet for hours in the comfort of your home.\n",
    "\n",
    "She wants you to program a prototype version of the game, and analyze the planned content to help the team calibrate the design."
   ]
  },
  {
   "cell_type": "markdown",
   "metadata": {},
   "source": [
    "#### Package imports\n",
    "\n",
    "The pprint package below is the only package imported here, and it's not even strictly required to do any of the project. Printing python variables and objects with pprint can help to format them in a \"prettier\" way."
   ]
  },
  {
   "cell_type": "markdown",
   "metadata": {},
   "source": [
    "### Added Note : \n",
    "Because I use it later, I am also importing *numpy* in this cell.  I like to keep all my imports together."
   ]
  },
  {
   "cell_type": "code",
   "execution_count": 1,
   "metadata": {
    "collapsed": true
   },
   "outputs": [],
   "source": [
    "from pprint import pprint\n",
    "import numpy as np"
   ]
  },
  {
   "cell_type": "markdown",
   "metadata": {},
   "source": [
    "<img src=\"http://imgur.com/l5NasQj.png\" style=\"float: left; margin: 25px 15px 0px 0px; height: 25px\">\n",
    "\n",
    "## 1. Defining a player\n",
    "\n",
    "---\n",
    "\n",
    "The player variables are:\n",
    "\n",
    "    player_id : id code unique to each player (integer)\n",
    "    player_name : entered name of the player (string)\n",
    "    time_played : number of time played the game in minutes (float)\n",
    "    player_pokemon: the player's captured pokemon (dictionary)\n",
    "    gyms_visited: ids of the gyms that a player has visited (list)\n",
    "    \n",
    "Create the components for a player object by defining each of these variables. The dictionary and list variables should just be defined as empty; you can use any (correctly typed) values for the others."
   ]
  },
  {
   "cell_type": "code",
   "execution_count": 2,
   "metadata": {
    "collapsed": true
   },
   "outputs": [],
   "source": [
    "# Initialize variable components of player class\n",
    "# Set lists, dictionaries as empty values.  \n",
    "# Give any value for other attributes  \n",
    " \n",
    "player_id = 1\n",
    "player_name = 'Ash Ketchum'\n",
    "time_played = 45.5 #hours\n",
    "player_pokemon = {}\n",
    "gyms_visited = []"
   ]
  },
  {
   "cell_type": "markdown",
   "metadata": {},
   "source": [
    "<img src=\"http://imgur.com/l5NasQj.png\" style=\"float: left; margin: 25px 15px 0px 0px; height: 25px\">\n",
    "\n",
    "## 2. Defining \"gym\" locations\n",
    "\n",
    "---\n",
    "\n",
    "As the sole programmer, Pokemon Stay will have to start small. To begin, there will be 10 different gym location websites on the internet. The gym locations are:\n",
    "\n",
    "    1. 'reddit.com'\n",
    "    2. 'amazon.com'\n",
    "    3. 'twitter.com'\n",
    "    4. 'linkedin.com'\n",
    "    5. 'ebay.com'\n",
    "    6. 'netflix.com'\n",
    "    7. ~~'amazon.com'~~ -> 'gamefaqs.com\n",
    "    8. 'stackoverflow.com'\n",
    "    9. 'github.com'\n",
    "    10. 'quora.com'\n",
    "\n",
    "1. Set up a list of all the gym locations. This will be a list of strings.\n",
    "2. Append two of these locations to your player's list of visited gyms.\n",
    "3. Print the list."
   ]
  },
  {
   "cell_type": "markdown",
   "metadata": {},
   "source": [
    "### Change : \n",
    "*amazon.com* was listed twice in the list above.  Assuming this was a mistake, I changed the second one to a website of my choosing : *gamefaqs.com*."
   ]
  },
  {
   "cell_type": "code",
   "execution_count": 3,
   "metadata": {},
   "outputs": [
    {
     "name": "stdout",
     "output_type": "stream",
     "text": [
      "['reddit.com', 'netflix.com']\n"
     ]
    }
   ],
   "source": [
    "# Delcare gym locations (websites), as listed above.\n",
    "gym_locations = ['reddit.com', 'amazon.com', 'twitter.com', 'linkedin.com', 'ebay.com', 'netflix.com',\n",
    "                'gamefaqs.com', 'stackoverflow.com', 'github.com', 'quora.com']\n",
    "\n",
    "\n",
    "# Using numpy.random package.Create a list of two gyms, selected at random.\n",
    "# List values do not repeat.\n",
    "gyms_visited = list(np.random.choice(gym_locations, size=2, replace=False))\n",
    "\n",
    "# Print results\n",
    "pprint(gyms_visited)"
   ]
  },
  {
   "cell_type": "markdown",
   "metadata": {},
   "source": [
    "<img src=\"http://imgur.com/l5NasQj.png\" style=\"float: left; margin: 25px 15px 0px 0px; height: 25px\">\n",
    "\n",
    "## 3. Create a pokedex\n",
    "\n",
    "---\n",
    "\n",
    "We also need to create some pokemon to catch. Each pokemon will be defined by these variables:\n",
    "\n",
    "    pokemon_id : unique identifier for each pokemon (integer)\n",
    "    name : the name of the pokemon (string)\n",
    "    type : the category of pokemon (string)\n",
    "    hp : base hitpoints (integer)\n",
    "    attack : base attack (integer)\n",
    "    defense : base defense (integer)\n",
    "    special_attack : base special attack (integer)\n",
    "    special_defense : base sepecial defense (integer)\n",
    "    speed : base speed (integer)\n",
    "\n",
    "We are only going to create 3 different pokemon with these `pokemon_id` and `pokemon_name` values:\n",
    "\n",
    "    1 : 'charmander'\n",
    "    2 : 'squirtle'\n",
    "    3 : 'bulbasaur'\n",
    "\n",
    "Create a dictionary that will contain the pokemon. The keys of the dictionary will be the `pokemon_id` and the values will themselves dictionaries that contain the other pokemon variables. The structure of the pokedex dictionary will start like so:\n",
    "     \n",
    "     {\n",
    "         1: {\n",
    "                 'name':'charmander',\n",
    "                 'type':'fire',\n",
    "                 ...\n",
    "                 \n",
    "The `type` of charmander, squirtle, and bulbasaur should be `'fire'`, `'water'`, and `'poison'` respectively. The other values are up to you, make them anything you like!\n",
    "\n",
    "Print (or pretty print) the pokedex dictionary with the 3 pokemon."
   ]
  },
  {
   "cell_type": "markdown",
   "metadata": {},
   "source": [
    "### Change : \n",
    "I am using different values for the pokemon_id key/values.  This is so that I stay true to the Pokedex.\n",
    "Corrected numbers are : \n",
    "- Bulbasaur : 1\n",
    "- Charmander : 4\n",
    "- Squirtle   : 7"
   ]
  },
  {
   "cell_type": "markdown",
   "metadata": {},
   "source": [
    "### Added Note : \n",
    "Reading the *csv* file is for later, so here I am just inputing values manually.  For this we have to do it 1 by 1 since there's no way Python can guess what a pokemon's name is without explicitly saying it."
   ]
  },
  {
   "cell_type": "code",
   "execution_count": 4,
   "metadata": {},
   "outputs": [
    {
     "name": "stdout",
     "output_type": "stream",
     "text": [
      "{'1': {'attack': 49,\n",
      "       'defense': 49,\n",
      "       'hp': 45,\n",
      "       'name': 'bulbasaur',\n",
      "       'special_attack': 65,\n",
      "       'special_defense': 65,\n",
      "       'speed': 45,\n",
      "       'type': 'poison'},\n",
      " '4': {'attack': 52,\n",
      "       'defense': 43,\n",
      "       'hp': 39,\n",
      "       'name': 'charmander',\n",
      "       'special_attack': 60,\n",
      "       'special_defense': 50,\n",
      "       'speed': 65,\n",
      "       'type': 'fire'},\n",
      " '7': {'attack': 48,\n",
      "       'defense': 65,\n",
      "       'hp': 44,\n",
      "       'name': 'squirtle',\n",
      "       'special_attack': 50,\n",
      "       'special_defense': 64,\n",
      "       'speed': 43,\n",
      "       'type': 'water'}}\n"
     ]
    }
   ],
   "source": [
    "# Initialize the Pokedex as an empty dictionary\n",
    "pokedex = {}\n",
    "\n",
    "# Assign sub-dictionaries with pokemon attributes to pokemon_id keys in larger dictionary.\n",
    "\n",
    "# Bulbasaur #1!!!\n",
    "pokedex['1'] = {'name' : 'bulbasaur', 'type' : 'poison', 'hp' : 45, 'attack' : 49, \n",
    "                'defense' : 49, 'special_attack' : 65, 'special_defense' : 65, 'speed' : 45}\n",
    "# Charmander\n",
    "pokedex['4'] = {'name' : 'charmander', 'type' : 'fire', 'hp' : 39, 'attack' : 52, \n",
    "                'defense' : 43, 'special_attack' : 60, 'special_defense' : 50, 'speed' : 65}\n",
    "# Squirtle \n",
    "pokedex['7'] = {'name' : 'squirtle', 'type' : 'water', 'hp' : 44, 'attack' : 48, \n",
    "                'defense' : 65, 'special_attack' : 50, 'special_defense' : 64, 'speed' : 43}\n",
    "\n",
    "# Print results\n",
    "pprint(pokedex)"
   ]
  },
  {
   "cell_type": "markdown",
   "metadata": {},
   "source": [
    "<img src=\"http://imgur.com/l5NasQj.png\" style=\"float: left; margin: 25px 15px 0px 0px; height: 25px\">\n",
    "\n",
    "## 4. Create a data structure for players\n",
    "\n",
    "---\n",
    "\n",
    "### 4.1 \n",
    "\n",
    "In order to maintain a database of multiple players, create a dictionary that keeps track of players indexed by `player_id`. \n",
    "\n",
    "The keys of the dictionary will be `player_id` and values will be dictionaries containing each player's variables (from question 1). \n",
    "\n",
    "Construct the `players` dictionary and insert the player that you defined in question 1, then print `players`."
   ]
  },
  {
   "cell_type": "markdown",
   "metadata": {},
   "source": [
    "### Added Note :\n",
    "Although it does not explicitly state to do so, I am creating a function that will do this part for me.  This way I can simply use it again in the next section."
   ]
  },
  {
   "cell_type": "code",
   "execution_count": 5,
   "metadata": {
    "collapsed": true
   },
   "outputs": [],
   "source": [
    "def init_player(player_id, player_name, time_played, player_pokemon, gyms_visited):\n",
    "    ''' Construct a player dictionary.\n",
    "    \n",
    "    Arguments : player_id (int), player_name (string), time_played (float, in hours), player_pokemon (dict), \n",
    "    gyms visited (list).\n",
    "    \n",
    "    Dictionary keys are player_id's, for each value a sub-dictionary is constructed with key-value pairs of \n",
    "    all the player's attributes.\n",
    "    '''\n",
    "    \n",
    "    # Construct dictionary, manually input all values.\n",
    "    player_dict = {str(player_id) : \n",
    "                   {'player_name' : player_name,\n",
    "                    'time_played' : time_played,\n",
    "                    'player_pokemon' : player_pokemon,\n",
    "                    'gyms_visited' : gyms_visited\n",
    "                   }\n",
    "                  }\n",
    "    \n",
    "    return player_dict"
   ]
  },
  {
   "cell_type": "code",
   "execution_count": 6,
   "metadata": {},
   "outputs": [
    {
     "name": "stdout",
     "output_type": "stream",
     "text": [
      "{'1': {'gyms_visited': ['reddit.com', 'netflix.com'],\n",
      "       'player_name': 'Ash Ketchum',\n",
      "       'player_pokemon': {},\n",
      "       'time_played': 45.5}}\n"
     ]
    }
   ],
   "source": [
    "# Initialize player dictionary, and update it with values defined in Question 1\n",
    "# Written in several steps for readability\n",
    "\n",
    "# Create empty dictionary\n",
    "players = {}\n",
    "\n",
    "# Initialize player 1 using init_player function, defined above, and assign it to dummy variable.\n",
    "_ = init_player(player_id, player_name, time_played, player_pokemon, gyms_visited)\n",
    "\n",
    "# Update players dictionary with dummy dictionary\n",
    "players.update(_)\n",
    "\n",
    "# Print results\n",
    "pprint(players)"
   ]
  },
  {
   "cell_type": "markdown",
   "metadata": {},
   "source": [
    "---\n",
    "\n",
    "### 4.2\n",
    "\n",
    "Create a new player with `player_id = 2` in the `players` dictionary. Leave the `'player_pokemon'` dictionary empty. Append `'alcatraz'` and `'pacific_beach'` to the `'gyms_visited'` list for player 2.\n",
    "\n",
    "The `'player_name'` and `'time_played'` values are up to you, but must be a string and float, respectively.\n",
    "\n",
    "Remember, the player_id is the key for the player in the players dictionary.\n",
    "\n",
    "Print the `players` dictionary with the new player inserted."
   ]
  },
  {
   "cell_type": "code",
   "execution_count": 7,
   "metadata": {},
   "outputs": [
    {
     "name": "stdout",
     "output_type": "stream",
     "text": [
      "{'1': {'gyms_visited': ['reddit.com', 'netflix.com'],\n",
      "       'player_name': 'Ash Ketchum',\n",
      "       'player_pokemon': {},\n",
      "       'time_played': 45.5},\n",
      " '2': {'gyms_visited': ['alcatraz', 'pacific_beach'],\n",
      "       'player_name': 'Gary Oak',\n",
      "       'player_pokemon': {},\n",
      "       'time_played': 48.6}}\n"
     ]
    }
   ],
   "source": [
    "# Add second player to players dictionary\n",
    "# Same steps as previous section (except creating the empty dictionary)\n",
    "_ = init_player(2, 'Gary Oak', 48.6, {}, [])\n",
    "players.update(_)\n",
    "\n",
    "# Append alcatraz and pacific_beach to player 2's gyms_visited attribute\n",
    "players['2']['gyms_visited'].append('alcatraz')\n",
    "players['2']['gyms_visited'].append('pacific_beach')\n",
    "\n",
    "# Print the updated dictionary\n",
    "pprint(players)"
   ]
  },
  {
   "cell_type": "markdown",
   "metadata": {},
   "source": [
    "<img src=\"http://imgur.com/l5NasQj.png\" style=\"float: left; margin: 25px 15px 0px 0px; height: 25px\">\n",
    "\n",
    "## 5. Add captured pokemon for each player\n",
    "\n",
    "---\n",
    "\n",
    "The `'player_pokemon'` keyed dictionaries for each player keep track of which of the pokemon each player has.\n",
    "\n",
    "The keys of the `'player_pokemon'` dictionaries are the pokemon ids that correspond to the ids in the `pokedex` dictionary you created earlier. The values are integers specifying the stats for the pokemon.\n",
    "\n",
    "Give player 1 a squirtle. Give player 2 charmander and a bulbasaur.\n",
    "\n",
    "Print the players dictionary after adding the pokemon for each player.\n"
   ]
  },
  {
   "cell_type": "code",
   "execution_count": 8,
   "metadata": {},
   "outputs": [
    {
     "name": "stdout",
     "output_type": "stream",
     "text": [
      "{'1': {'gyms_visited': ['reddit.com', 'netflix.com'],\n",
      "       'player_name': 'Ash Ketchum',\n",
      "       'player_pokemon': {'7': {'attack': 48,\n",
      "                                'defense': 65,\n",
      "                                'hp': 44,\n",
      "                                'name': 'squirtle',\n",
      "                                'special_attack': 50,\n",
      "                                'special_defense': 64,\n",
      "                                'speed': 43,\n",
      "                                'type': 'water'}},\n",
      "       'time_played': 45.5},\n",
      " '2': {'gyms_visited': ['alcatraz', 'pacific_beach'],\n",
      "       'player_name': 'Gary Oak',\n",
      "       'player_pokemon': {'1': {'attack': 49,\n",
      "                                'defense': 49,\n",
      "                                'hp': 45,\n",
      "                                'name': 'bulbasaur',\n",
      "                                'special_attack': 65,\n",
      "                                'special_defense': 65,\n",
      "                                'speed': 45,\n",
      "                                'type': 'poison'},\n",
      "                          '4': {'attack': 52,\n",
      "                                'defense': 43,\n",
      "                                'hp': 39,\n",
      "                                'name': 'charmander',\n",
      "                                'special_attack': 60,\n",
      "                                'special_defense': 50,\n",
      "                                'speed': 65,\n",
      "                                'type': 'fire'}},\n",
      "       'time_played': 48.6}}\n"
     ]
    }
   ],
   "source": [
    "# Give player 1 a Squirtle, player 2 a Charmander and Bulbasaur.\n",
    "# Defined earlier, so we just have to assign correspoding values in dictionary.\n",
    "\n",
    "players['1']['player_pokemon']['7'] = pokedex['7'] # Add Squirtle to player 1's pokemon (pokemon_id = 7)\n",
    "players['2']['player_pokemon']['4'] = pokedex['4'] # Add Charmander to player 2's pokemon (pokemon_id = 4)\n",
    "players['2']['player_pokemon']['1'] = pokedex['1'] # Add Bulbasaur to player 2's pokemon (pokemon_id = 1)\n",
    "\n",
    "# Print results\n",
    "pprint(players)"
   ]
  },
  {
   "cell_type": "markdown",
   "metadata": {},
   "source": [
    "\n",
    "\n",
    "## 6. What gyms have players visited?\n",
    "\n",
    "---\n",
    "<img src=\"http://imgur.com/l5NasQj.png\" style=\"float: left; margin: 25px 15px 0px 0px; height: 25px\">\n",
    "### 6.1\n",
    "\n",
    "Write a for-loop that:\n",
    "\n",
    "1. Iterates through the `pokemon_gyms` list of gym locations you defined before.\n",
    "2. For each gym, iterate through each player in the `players` dictionary with a second, internal for-loop.\n",
    "3. If the player has visited the gym, print out \"[player] has visited [gym location].\", filling in [player] and [gym location] with the current player's name and current gym location."
   ]
  },
  {
   "cell_type": "markdown",
   "metadata": {},
   "source": [
    "#### ADDED NOTE : \n",
    "The loop only shows two gyms (for Ash Ketchum / `player : 1`), because `alcatraz` and `pacific_beach` were never added to the original list of gyms.  I am assuming that this was intended, since the point of the game is not to **GO** but to **STAY**.  Actually adding them would have been as simple as using list method extend() though.  I included another cell, with a dummy gym list in case this was not the case."
   ]
  },
  {
   "cell_type": "code",
   "execution_count": 9,
   "metadata": {},
   "outputs": [
    {
     "name": "stdout",
     "output_type": "stream",
     "text": [
      "Ash Ketchum has visited reddit.com\n",
      "Ash Ketchum has visited netflix.com\n"
     ]
    }
   ],
   "source": [
    "# Loop through gym locations (pokemon_gyms)\n",
    "for gym in gym_locations:\n",
    "    \n",
    "    # Iterate through players in players dictionary\n",
    "    for p in players:\n",
    "        \n",
    "        # Check if gym (item of pokemon_gyms) is in each player's dictionary using an if statement\n",
    "        if(gym in players[p]['gyms_visited']):\n",
    "            \n",
    "            # Create formated text, done in separate steps than print statements for readability\n",
    "            text = '{} has visited {}'.format(players[p]['player_name'], gym)\n",
    "            print(text)"
   ]
  },
  {
   "cell_type": "code",
   "execution_count": 10,
   "metadata": {},
   "outputs": [
    {
     "name": "stdout",
     "output_type": "stream",
     "text": [
      "Ash Ketchum has visited reddit.com\n",
      "Ash Ketchum has visited netflix.com\n",
      "Gary Oak has visited alcatraz\n",
      "Gary Oak has visited pacific_beach\n"
     ]
    }
   ],
   "source": [
    "# Do same as above, but with dummy list of gyms.  Make sure we are making a copy when declaring so\n",
    "# that we don't change the original one.\n",
    "\n",
    "# Create dummy list\n",
    "dummy_list = list(gym_locations)\n",
    "dummy_list.extend(['alcatraz', 'pacific_beach'])\n",
    "\n",
    "# Run code from previous cell\n",
    "# Loop through gym locations (pokemon_gyms)\n",
    "for gym in dummy_list:\n",
    "    \n",
    "    # Iterate through players in players dictionary\n",
    "    for p in players:\n",
    "        \n",
    "        # Check if gym (item of pokemon_gyms) is in each player's dictionary using an if statement\n",
    "        if(gym in players[p]['gyms_visited']):\n",
    "            \n",
    "            # Create formated text, done in separate steps than print statements for readability\n",
    "            text = '{} has visited {}'.format(players[p]['player_name'], gym)\n",
    "            print(text)"
   ]
  },
  {
   "cell_type": "markdown",
   "metadata": {},
   "source": [
    "<img src=\"http://imgur.com/xDpSobf.png\" style=\"float: left; margin: 25px 15px 0px 0px; height: 25px\">\n",
    "### 6.2\n",
    "\n",
    "How many times did that loop run? If you have N gyms and also N players, how many times would it run as a function of N?\n",
    "\n",
    "Can you think of a more efficient way to accomplish the same thing? \n",
    "\n",
    "(You can write your answer as Markdown text.)"
   ]
  },
  {
   "cell_type": "markdown",
   "metadata": {},
   "source": [
    "#### Answer : \n",
    "Generally speaking, the total number of iterations, $N$ of a nested loop is :\n",
    "\n",
    "\\begin{equation} \n",
    "N = N_i \\times N_j \n",
    "\\end{equation}\n",
    "\n",
    "where, $N_j$ is the number of iterations of the child loop, and $N_i$ is the number of iterations of the parent loop.  In the case of $N$ gyms and $N$ players, we have : \n",
    "\n",
    "\\begin{equation}\n",
    "N = N \\times N = N^2\n",
    "\\end{equation}\n",
    "\n",
    "In our case, we have a list of 10 gyms, and 2 players, so the answer would be : \n",
    "\n",
    "\\begin{equation}\n",
    "N_{runs} = 10 \\times 2 = 20\n",
    "\\end{equation}\n",
    "\n",
    "To check this, we can run the same loops ony replacing the content with a counter."
   ]
  },
  {
   "cell_type": "code",
   "execution_count": 11,
   "metadata": {},
   "outputs": [
    {
     "name": "stdout",
     "output_type": "stream",
     "text": [
      "20\n"
     ]
    }
   ],
   "source": [
    "# Initialize counter \n",
    "counter = 0\n",
    "\n",
    "# Repeat previous loop, but replacing the content with the counter\n",
    "for gym in gym_locations:\n",
    "    for p in players:\n",
    "        # Increment counter\n",
    "        counter += 1\n",
    "\n",
    "# Print counter results\n",
    "print(counter)"
   ]
  },
  {
   "cell_type": "markdown",
   "metadata": {},
   "source": [
    "We indeed, have a total of 20 iterations."
   ]
  },
  {
   "cell_type": "markdown",
   "metadata": {},
   "source": [
    "<img src=\"http://imgur.com/l5NasQj.png\" style=\"float: left; margin: 25px 15px 0px 0px; height: 25px\">\n",
    "\n",
    "## 7. Calculate player \"power\".\n",
    "\n",
    "---\n",
    "\n",
    "Define a function that will calculate a player's \"power\". Player power is defined as the sum of the base statistics all of their pokemon.\n",
    "\n",
    "Your function will:\n",
    "\n",
    "1. Accept the `players` dictionary, `pokedex` dictionary, and a player_id as arguments.\n",
    "2. For the specified player_id, look up that player's pokemon and their level(s).\n",
    "3. Find and aggregate the attack and defense values for each of the player's pokemon from the `pokedex` dictionary.\n",
    "4. Print \"[player name]'s power is [player power].\", where the player power is the sum of the base statistics for all of their pokemon.\n",
    "5. Return the player's power value.\n",
    "\n",
    "Print out the pokemon power for each of your players."
   ]
  },
  {
   "cell_type": "markdown",
   "metadata": {},
   "source": [
    "### Change :\n",
    "It seemed odd to me to only use the Pokemon's Attack and Defense as a basis of player power.  So I am instead summing all stats."
   ]
  },
  {
   "cell_type": "code",
   "execution_count": 12,
   "metadata": {
    "collapsed": true
   },
   "outputs": [],
   "source": [
    "# Function to calculate player Power\n",
    "# Note : I am also adding the special attack/defense and speed to this calculations\n",
    "def player_power(players, pokedex, player_id):\n",
    "    ''' Return player power.\n",
    "    \n",
    "    Sums base stats of all pokemon in player's dictionary.\n",
    "    Arguments : players (dict), pokedex (dict), player_id (int or str)\n",
    "    '''\n",
    "    \n",
    "    # Convert player_id to string\n",
    "    player_id = str(player_id)\n",
    "    \n",
    "    # Start by getting the player's pokemon dictionary (the ones he has)\n",
    "    player_pk = players[player_id]['player_pokemon']\n",
    "    \n",
    "    # Initialize player power as zero\n",
    "    power = 0\n",
    "    \n",
    "    # Loop through key, value pairs in player_pk dictionary\n",
    "    # Each value is another dictionary with the pokemon's stats, so we need \n",
    "    # to embed another for-loop that iterates through those stats\n",
    "    for pokemon_id, stat_dict in player_pk.items():\n",
    "        for stat_name, stat_value in stat_dict.items():\n",
    "            \n",
    "            # Get all attributes except name and type, since those don't make sense in the context.\n",
    "            if(stat_name != 'name' and stat_name != 'type'):\n",
    "                # Increment power \n",
    "                power += stat_value\n",
    "    \n",
    "    # Print results, and return player power\n",
    "    pprint(\"{}'s power is {}\".format(players[player_id]['player_name'], power))\n",
    "    return power\n",
    "    \n",
    "    \n",
    "    "
   ]
  },
  {
   "cell_type": "code",
   "execution_count": 13,
   "metadata": {},
   "outputs": [
    {
     "name": "stdout",
     "output_type": "stream",
     "text": [
      "\"Gary Oak's power is 627\"\n"
     ]
    },
    {
     "data": {
      "text/plain": [
       "627"
      ]
     },
     "execution_count": 13,
     "metadata": {},
     "output_type": "execute_result"
    }
   ],
   "source": [
    "player_power(players, pokedex, 2)"
   ]
  },
  {
   "cell_type": "markdown",
   "metadata": {
    "collapsed": true
   },
   "source": [
    "<img src=\"http://imgur.com/l5NasQj.png\" style=\"float: left; margin: 25px 15px 0px 0px; height: 25px\">\n",
    "\n",
    "## 8. Load a pokedex file containing all the pokemon\n",
    "\n",
    "---\n",
    "\n",
    "### 8.1\n",
    "\n",
    "While you were putting together the prototype code, your colleagues were preparing a dataset of Pokemon and their attributes. (This was a rush job, so they may have picked some crazy values for some...)\n",
    "\n",
    "The code below loads information from a comma separated value (csv) file. You need to parse this string into a more useable format. The format of the string is:\n",
    "\n",
    "- Rows are separated by newline characters: \\n\n",
    "- Columns are separated by commas: ,\n",
    "- All cells in the csv are double quoted. Ex: \"PokedexNumber\" is the first cell of the first row.\n",
    "\n",
    "\n",
    "Using for-loops, create a list of lists where each list within the overall list is a row of the csv/matrix, and each element in that list is a cell in that row. Additional criteria:\n",
    "\n",
    "1. Quotes are removed from each cell item.\n",
    "2. Numeric column values are converted to floats.\n",
    "3. There are some cells that are empty and have no information. For these cells put a -1 value in place.\n",
    "\n",
    "Your end result is effectively a matrix. Each list in the outer list is a row, and the *j*th elements of list together form the *j*th column, which represents a data attribute. The first three lists in your pokedex list should look like this:\n",
    "\n",
    "    ['PokedexNumber', 'Name', 'Type', 'Total', 'HP', 'Attack', 'Defense', 'SpecialAttack', 'SpecialDefense', 'Speed']\n",
    "    [1.0, 'Bulbasaur', 'GrassPoison', 318.0, 45.0, 49.0, 49.0, 65.0, 65.0, 45.0]\n",
    "    [2.0, 'Ivysaur', 'GrassPoison', 405.0, 60.0, 62.0, 63.0, 80.0, 80.0, 60.0]"
   ]
  },
  {
   "cell_type": "markdown",
   "metadata": {},
   "source": [
    "### Added Note : \n",
    "I wasn't sure if the directions mean't that we were *only* allowed to use for loops, meaning no python string methods.  So this next part is done entirely with for-loops and if-else statements.  I basically loop over each character in the raw_pd string, and have different behaviors depending on the type of character.  I also assumed that we were not allowed to change the part of the code that reads the file, meaning we can't just have it read as a .csv, and stored accordingly.  Definitely not the easiest way to do things, considering what's available to us, but it was good practice.\n",
    "\n",
    "In the next cell I define a function which helps me convert characters/strings to appropriate values, as indicated above."
   ]
  },
  {
   "cell_type": "code",
   "execution_count": 14,
   "metadata": {
    "collapsed": true
   },
   "outputs": [],
   "source": [
    "def check_string(string):\n",
    "    ''' Check if string is a number or an empty value.\n",
    "    \n",
    "    if number : return value as float\n",
    "    if empty  : return -1 as int\n",
    "    otherwise, just return the original string\n",
    "    '''\n",
    "    if(string == ''):\n",
    "        return -1\n",
    "    \n",
    "    elif(string.isdigit()): \n",
    "        return float(string)\n",
    "    \n",
    "    else:\n",
    "        return string"
   ]
  },
  {
   "cell_type": "code",
   "execution_count": 17,
   "metadata": {},
   "outputs": [
    {
     "name": "stdout",
     "output_type": "stream",
     "text": [
      "['PokedexNumber',\n",
      " 'Name',\n",
      " 'Type',\n",
      " 'Total',\n",
      " 'HP',\n",
      " 'Attack',\n",
      " 'Defense',\n",
      " 'SpecialAttack',\n",
      " 'SpecialDefense',\n",
      " 'Speed']\n",
      "[1.0, 'Bulbasaur', 'GrassPoison', 318.0, 45.0, 49.0, 49.0, 65.0, 65.0, 45.0]\n",
      "[2.0, 'Ivysaur', 'GrassPoison', 405.0, 60.0, 62.0, 63.0, 80.0, 80.0, 60.0]\n",
      "[3.0, 'Venusaur', 'GrassPoison', 525.0, 80.0, 82.0, 83.0, 100.0, 100.0, 80.0]\n",
      "[3.0,\n",
      " 'VenusaurMega Venusaur',\n",
      " 'GrassPoison',\n",
      " 625.0,\n",
      " 80.0,\n",
      " 100.0,\n",
      " 123.0,\n",
      " 122.0,\n",
      " 120.0,\n",
      " 80.0]\n"
     ]
    }
   ],
   "source": [
    "# Code to read in pokedex info\n",
    "raw_pd = ''\n",
    "pokedex_file = 'pokedex_basic.csv'\n",
    "with open(pokedex_file, 'r') as f:\n",
    "    raw_pd = f.read()\n",
    "\n",
    "# Splitting into lists of lists using a for-loop (which is not the easiest way to do this)\n",
    "\n",
    "\n",
    "# Initialize empty nested list that will store the final product.\n",
    "# Also, initialize row and column counters to structure the new list.\n",
    "pkdx = [['']]\n",
    "row, col  = 0, 0\n",
    "\n",
    "# Loop over each letter in raw_pd\n",
    "for i in range(len(raw_pd)):\n",
    "    \n",
    "    # Store letter in variable (for clarity)\n",
    "    letter = raw_pd[i]\n",
    "    \n",
    "    if(letter == '\"'):\n",
    "        # If the letter is a quotation mark ignore it and go to next iteration.\n",
    "        continue\n",
    "        \n",
    "    elif(letter == '\\n'):\n",
    "        # If it is a new line, check/convert the latest value in list using check_string\n",
    "        pkdx[row][col] = check_string(pkdx[row][col])\n",
    "        \n",
    "        # Create new empty sub-list, increment row number,\n",
    "        # reset column number (new row, start at 0),\n",
    "        # and continue to next iteration.\n",
    "        pkdx.append([''])\n",
    "        row += 1\n",
    "        col  = 0\n",
    "        continue\n",
    "    \n",
    "    elif(letter == ','):\n",
    "        # If letter is a comma, we are going to a new list element, we need to\n",
    "        # check for digits, empty values, increment column number, and append\n",
    "        # a new empty string for next item.\n",
    "        pkdx[row][col] = check_string(pkdx[row][col])\n",
    "        col += 1\n",
    "        pkdx[row].append('')\n",
    "        continue\n",
    "        \n",
    "    # If we've gotten passed the if-else statements, that means we are actually looking \n",
    "    # at a letter and we need to add it to the string in the current row-col\n",
    "    pkdx[row][col] += letter\n",
    "\n",
    "    # We need the loop to behave differently if we are on the last letter.\n",
    "    # We need to explicitly check the last list element.\n",
    "    if i == len(raw_pd)-2:\n",
    "        # Bad coding : I explicitly specified - 2 because I knew that the last character is a quotation mark.\n",
    "        # Not sure how to go around this issue.\n",
    "        pkdx[row][col] = check_string(pkdx[row][col])\n",
    "    \n",
    "# Print 1st 5 Results\n",
    "for entry in pkdx[:5]:\n",
    "    pprint(entry)"
   ]
  },
  {
   "cell_type": "markdown",
   "metadata": {},
   "source": [
    "#### ADDED NOTE : \n",
    "<br>\n",
    "Using a for loop in the way we just did is definitely not the easiest way to do this... As a demonstration, I am going to do the same thing below, but this time using string methods."
   ]
  },
  {
   "cell_type": "code",
   "execution_count": 19,
   "metadata": {},
   "outputs": [
    {
     "name": "stdout",
     "output_type": "stream",
     "text": [
      "['PokedexNumber',\n",
      " 'Name',\n",
      " 'Type',\n",
      " 'Total',\n",
      " 'HP',\n",
      " 'Attack',\n",
      " 'Defense',\n",
      " 'SpecialAttack',\n",
      " 'SpecialDefense',\n",
      " 'Speed']\n",
      "[1.0, 'Bulbasaur', 'GrassPoison', 318.0, 45.0, 49.0, 49.0, 65.0, 65.0, 45.0]\n",
      "[2.0, 'Ivysaur', 'GrassPoison', 405.0, 60.0, 62.0, 63.0, 80.0, 80.0, 60.0]\n",
      "[3.0, 'Venusaur', 'GrassPoison', 525.0, 80.0, 82.0, 83.0, 100.0, 100.0, 80.0]\n",
      "[3.0,\n",
      " 'VenusaurMega Venusaur',\n",
      " 'GrassPoison',\n",
      " 625.0,\n",
      " 80.0,\n",
      " 100.0,\n",
      " 123.0,\n",
      " 122.0,\n",
      " 120.0,\n",
      " 80.0]\n"
     ]
    }
   ],
   "source": [
    "# Assign raw_pd to new variable and remove quotation marks \n",
    "pkdx_easy = raw_pd.replace('\\\"', '')\n",
    "\n",
    "# Split list on end line characters to separate each row\n",
    "pkdx_easy = pkdx_easy.split('\\n')\n",
    "\n",
    "# Split each row in the new list into it's columns, separated by commas\n",
    "pkdx_easy = [r.split(\",\") for r in pkdx_easy]\n",
    "\n",
    "# Now all we have to do is convert digit strings into floats, and replace empty values with \n",
    "# -1.  I guess I have to use a loop in the end.\n",
    "pkdx_easy = [[float(c) if c.isdigit() else -1 if c == '' else c for c in r] for r in pkdx_easy]\n",
    "\n",
    "# Print 1st 5 results\n",
    "for entry in pkdx_easy[:5]:\n",
    "    pprint(entry)"
   ]
  },
  {
   "cell_type": "markdown",
   "metadata": {},
   "source": [
    "Same results, much clearer and concise."
   ]
  },
  {
   "cell_type": "markdown",
   "metadata": {},
   "source": [
    "<img src=\"http://imgur.com/xDpSobf.png\" style=\"float: left; margin: 25px 15px 0px 0px; height: 25px\">\n",
    "\n",
    "### 8.2 Parse the raw pokedex with list comprehensions\n",
    "\n",
    "---\n",
    "\n",
    "Perform the same parsing as above, but **using only a single list comprehension** instead of for loops. You may have nested list comprehensions within the main list comprehension! The output should be exactly the same."
   ]
  },
  {
   "cell_type": "markdown",
   "metadata": {},
   "source": [
    "#### Added Note \n",
    "This is essentially the same thing as in my demonstration in the previous section, but done in a single statement.  Spatially efficient, but not that readable.  I am also adding a bit of code because I noticed that the Mega evolutions of the pokemon share the same ID numbers as their counterparts. Because of this, I will add 0.1 to the Mega Evolution Y ID number, and 0.2 for the Mega Evolution X (3 identical IDs) before moving on to the next section."
   ]
  },
  {
   "cell_type": "code",
   "execution_count": 21,
   "metadata": {
    "collapsed": true
   },
   "outputs": [],
   "source": [
    "pokedex = [[float(c) if c.isdigit() else -1 if c == '' else c for c in _.split(',')]\n",
    "             for _ in raw_pd.replace('\\\"', '').split(\"\\n\")]"
   ]
  },
  {
   "cell_type": "code",
   "execution_count": 22,
   "metadata": {},
   "outputs": [
    {
     "name": "stdout",
     "output_type": "stream",
     "text": [
      "['PokedexNumber',\n",
      " 'Name',\n",
      " 'Type',\n",
      " 'Total',\n",
      " 'HP',\n",
      " 'Attack',\n",
      " 'Defense',\n",
      " 'SpecialAttack',\n",
      " 'SpecialDefense',\n",
      " 'Speed']\n",
      "[1.0, 'Bulbasaur', 'GrassPoison', 318.0, 45.0, 49.0, 49.0, 65.0, 65.0, 45.0]\n",
      "[2.0, 'Ivysaur', 'GrassPoison', 405.0, 60.0, 62.0, 63.0, 80.0, 80.0, 60.0]\n",
      "[3.0, 'Venusaur', 'GrassPoison', 525.0, 80.0, 82.0, 83.0, 100.0, 100.0, 80.0]\n",
      "[3.1,\n",
      " 'VenusaurMega Venusaur',\n",
      " 'GrassPoison',\n",
      " 625.0,\n",
      " 80.0,\n",
      " 100.0,\n",
      " 123.0,\n",
      " 122.0,\n",
      " 120.0,\n",
      " 80.0]\n"
     ]
    }
   ],
   "source": [
    "# Correction for repeated pokemon id's\n",
    "# Add 0.1 to pokedex number of mega evolutions X, 0.2 to mega evolutions Y.  \n",
    "# I'm doing this one quick and dirty.\n",
    "for i,x in enumerate(pokedex[1:], 1):\n",
    "    if(i == 1):\n",
    "        continue\n",
    "    \n",
    "    if(x[0] == pokedex[i-1][0]):\n",
    "        pokedex[i][0] += 0.1\n",
    "    \n",
    "    elif (x[0] == pokedex[i-1][0] - 0.1):\n",
    "        pokedex[i][0] += 0.2\n",
    "\n",
    "# Print 1st 5\n",
    "for entry in pokedex[:5]:\n",
    "    pprint(entry)"
   ]
  },
  {
   "cell_type": "markdown",
   "metadata": {},
   "source": [
    "<img src=\"http://imgur.com/l5NasQj.png\" style=\"float: left; margin: 25px 15px 0px 0px; height: 25px\">\n",
    "\n",
    "## 9. Write a function to generate the full pokedex\n",
    "\n",
    "---\n",
    "\n",
    "Write a function that recreates the pokedex you made before, but with the data read in from the full pokemon file. The `PokedexNumber` should be used as the `pokemon_id` key values for the dictionary of pokemon.\n",
    "\n",
    "Your function should:\n",
    "\n",
    "1. Take the parsed pokedex information you created above as an argument.\n",
    "2. Return a dictionary in the same format as your original pokedex you created before containing the information from the parsed full pokedex file.\n",
    "\n",
    "To test the function, print out the pokemon with id = 100."
   ]
  },
  {
   "cell_type": "markdown",
   "metadata": {},
   "source": [
    "### Change :\n",
    "I've kept all the pokemon key's (ID numbers as floats).  This is because of my correction of repeated ID numbers, since I'm using decimals.  So testing the function will have id = 100.0 instead of id = 100."
   ]
  },
  {
   "cell_type": "code",
   "execution_count": 20,
   "metadata": {},
   "outputs": [
    {
     "name": "stdout",
     "output_type": "stream",
     "text": [
      "{'Attack': 30.0,\n",
      " 'Defense': 50.0,\n",
      " 'HP': 40.0,\n",
      " 'Name': 'Voltorb',\n",
      " 'PokedexNumber': 100.0,\n",
      " 'SpecialAttack': 55.0,\n",
      " 'SpecialDefense': 55.0,\n",
      " 'Speed': 100.0,\n",
      " 'Total': 330.0,\n",
      " 'Type': 'Electric'}\n"
     ]
    }
   ],
   "source": [
    "# Define function\n",
    "def make_pokedex_dict(pokemon_info):\n",
    "    '''\n",
    "        Convert pokemon stats list of lists into a dictionary with pokemon_ids as keys.\n",
    "    '''\n",
    "    \n",
    "    # We have to make sure that we are using a copy of the list for manipulation.\n",
    "    # This way we don't change the original one.\n",
    "    pokedex = list(pokemon_info)\n",
    "\n",
    "    # We know that the first row in the pokedex is a list of names for the values.\n",
    "    # Extract it and delete it from list. Also making sure they are all strings since they will\n",
    "    # used as dictionary keys\n",
    "    keys = [str(p) for p in pokedex[0]]\n",
    "    del(pokedex[0])\n",
    " \n",
    "    # Now the fun part! Creating the dictionary\n",
    "    \n",
    "    # Start by initializing an empty dictionary, this will be the one returned. \n",
    "    # We will update it as we create the sub-dictionaries.\n",
    "    pokedex_dict = {}\n",
    "\n",
    "    # Loop throuh sub-lists \n",
    "    for pokemon in pokedex :\n",
    "        \n",
    "        # Create subdictionary, and update the big one\n",
    "        pokemon_dict = {str(keys[k]) : v for k,v in enumerate(pokemon)}\n",
    "        pokemon_dict = {str(pokemon_dict['PokedexNumber']) : pokemon_dict}\n",
    "        pokedex_dict.update(pokemon_dict)\n",
    "\n",
    "    return pokedex_dict\n",
    "    \n",
    "# make_pokemon_dict(pokedex)\n",
    "pokedex_dict = make_pokedex_dict(pokedex)\n",
    "\n",
    "# Print test pokemon\n",
    "pprint(pokedex_dict['100.0'])"
   ]
  },
  {
   "cell_type": "markdown",
   "metadata": {},
   "source": [
    "<img src=\"http://i.imgur.com/GCAf1UX.png\" style=\"float: left; margin: 25px 15px 0px 0px; height: 25px\">\n",
    "\n",
    "## 10. Write a function to generate a \"filtered\" pokedex\n",
    "---\n",
    "Your function should:\n",
    "1. Take the parsed pokedex information you created above as an argument.\n",
    "1. Take a dictionary as a parameter with keys matching the features of the Pokedex, filtering by exact match for string type values, and/or filter continuous variables specified value that is greater than or equal to the dictionary key parameter.\n",
    "1. Return multiple elements from the Pokedex\n",
    "\n",
    "Example:\n",
    "\n",
    "```python\n",
    "\n",
    "# Only filter based on parameters passed\n",
    "filter_options = {\n",
    "    'Attack':   25,\n",
    "    'Defense':  30,\n",
    "    'Type':     'Electric'\n",
    "}\n",
    "\n",
    "# Return records with attack >= 24, defense >= 30, and type == \"Electric\"\n",
    "# Also anticipate that other parameters can also be passed such as \"SpecialAttack\", \"Speed\", etc.\n",
    "filtered_pokedex(pokedex_data, filter=filter_options)\n",
    "\n",
    "# Example output:\n",
    "# [{'Attack': 30.0,\n",
    "#  'Defense': 50.0,\n",
    "#  'HP': 40.0,\n",
    "#  'Name': 'Voltorb',\n",
    "#  'SpecialAttack': 55.0,\n",
    "#  'SpecialDefense': 55.0,\n",
    "#  'Speed': 100.0,\n",
    "#  'Total': 330.0,\n",
    "#  'Type': 'Electric'},\n",
    "#  {'Attack': 30.0,\n",
    "#  'Defense': 33.0,\n",
    "#  'HP': 32.0,\n",
    "#  'Name': 'Pikachu',\n",
    "#  'SpecialAttack': 55.0,\n",
    "#  'SpecialDefense': 55.0,\n",
    "#  'Speed': 100.0,\n",
    "#  'Total': 330.0,\n",
    "#  'Type': 'Electric'},\n",
    "#  ... etc\n",
    "#  ]\n",
    "\n",
    "```\n",
    "\n"
   ]
  },
  {
   "cell_type": "code",
   "execution_count": 21,
   "metadata": {
    "collapsed": true
   },
   "outputs": [],
   "source": [
    "def filtered_pokedex(pokedex, filter_options={}):\n",
    "    ''' Return filtered pokedex.\n",
    "    \n",
    "    Construct a dictionary of pokemon whose stats are greater or equal than the specified values.\n",
    "    \n",
    "    Argument   : pokedex (dict)\n",
    "    Parameters : filter_options, passed as dictionary of stat-key : stat-value pairs.\n",
    "    \n",
    "    Types, Names, and PokedexNumber can also be specified in filter_options.\n",
    "    If filter_options is not specified, function returns the entire pokedex.\n",
    "    \n",
    "    Basically, we are flagging any key in the dictionary that does not meet the \n",
    "    criteria.  Flagged key-value pairs are subsequentially deleted from a copy of \n",
    "    the pokedex.  The reduced dictionary is then returned.\n",
    "    '''\n",
    "    \n",
    "    # Make sure only dictionaries are being entered, other wise return TypeError\n",
    "    if (isinstance(pokedex, dict) == False or isinstance(filter_options, dict) == False) :\n",
    "        return TypeError\n",
    "    \n",
    "    # Check if filter options are specified, if not return original dictionary\n",
    "    if (filter_options == {}):\n",
    "        return pokedex    \n",
    "    \n",
    "    # Make copy of pokedex for manipulation, this is the one that will be returned at the end.\n",
    "    filtered_pokedex = pokedex.copy()\n",
    "    \n",
    "    # For this I will loop over all elements of dictionary, and flag keys that need to be\n",
    "    # deleted by adding them to a list\n",
    "    flagged = []\n",
    "    \n",
    "    # Loop over all key-value pairs in dictionary and flag them if they \n",
    "    # do not meet the filter requirements\n",
    "    for pokedex_number, pokemon in filtered_pokedex.items(): \n",
    "        flag = False\n",
    "        for filter_key, filter_value in filter_options.items():\n",
    "            \n",
    "            # Needs different behaviours depending on type of values (strings vs floats)\n",
    "            if isinstance(pokemon[filter_key], str):\n",
    "                if pokemon[filter_key] != filter_value:\n",
    "                    flag = True\n",
    "                    break\n",
    "            elif(isinstance(pokemon[filter_key], float)):\n",
    "                if(pokemon[filter_key] < filter_value) :\n",
    "                    flag = True\n",
    "                    break\n",
    "\n",
    "        if (flag == True):\n",
    "            flagged.append(pokedex_number)\n",
    "            continue\n",
    "    \n",
    "    # Delete elements in flagged list\n",
    "    for f in flagged : \n",
    "        del(filtered_pokedex[f])\n",
    "    \n",
    "    return filtered_pokedex"
   ]
  },
  {
   "cell_type": "code",
   "execution_count": 25,
   "metadata": {},
   "outputs": [
    {
     "name": "stdout",
     "output_type": "stream",
     "text": [
      "{'150.0': {'Attack': 110.0,\n",
      "           'Defense': 90.0,\n",
      "           'HP': 106.0,\n",
      "           'Name': 'Mewtwo',\n",
      "           'PokedexNumber': 150.0,\n",
      "           'SpecialAttack': 154.0,\n",
      "           'SpecialDefense': 90.0,\n",
      "           'Speed': 130.0,\n",
      "           'Total': 680.0,\n",
      "           'Type': 'Psychic'},\n",
      " '150.2': {'Attack': 150.0,\n",
      "           'Defense': 70.0,\n",
      "           'HP': 106.0,\n",
      "           'Name': 'MewtwoMega Mewtwo Y',\n",
      "           'PokedexNumber': 150.2,\n",
      "           'SpecialAttack': 194.0,\n",
      "           'SpecialDefense': 120.0,\n",
      "           'Speed': 140.0,\n",
      "           'Total': 780.0,\n",
      "           'Type': 'Psychic'},\n",
      " '151.0': {'Attack': 100.0,\n",
      "           'Defense': 100.0,\n",
      "           'HP': 100.0,\n",
      "           'Name': 'Mew',\n",
      "           'PokedexNumber': 151.0,\n",
      "           'SpecialAttack': 100.0,\n",
      "           'SpecialDefense': 100.0,\n",
      "           'Speed': 100.0,\n",
      "           'Total': 600.0,\n",
      "           'Type': 'Psychic'},\n",
      " '386.1': {'Attack': 180.0,\n",
      "           'Defense': 20.0,\n",
      "           'HP': 50.0,\n",
      "           'Name': 'DeoxysAttack Forme',\n",
      "           'PokedexNumber': 386.1,\n",
      "           'SpecialAttack': 180.0,\n",
      "           'SpecialDefense': 20.0,\n",
      "           'Speed': 150.0,\n",
      "           'Total': 600.0,\n",
      "           'Type': 'Psychic'},\n",
      " '482.0': {'Attack': 125.0,\n",
      "           'Defense': 70.0,\n",
      "           'HP': 75.0,\n",
      "           'Name': 'Azelf',\n",
      "           'PokedexNumber': 482.0,\n",
      "           'SpecialAttack': 125.0,\n",
      "           'SpecialDefense': 70.0,\n",
      "           'Speed': 115.0,\n",
      "           'Total': 580.0,\n",
      "           'Type': 'Psychic'}}\n"
     ]
    }
   ],
   "source": [
    "# Test function\n",
    "pprint(filtered_pokedex(pokedex_dict, filter_options={'Attack' : 100, 'Speed' : 100,\n",
    "                                                      'SpecialAttack' : 100, 'Type' : 'Psychic'}))"
   ]
  },
  {
   "cell_type": "markdown",
   "metadata": {
    "collapsed": true
   },
   "source": [
    "\n",
    "## 9. Descriptive statistics on the prototype pokedex\n",
    "\n",
    "<img src=\"http://imgur.com/l5NasQj.png\" style=\"float: left; margin: 25px 15px 0px 0px; height: 25px\">\n",
    "### 9.1\n",
    "\n",
    "What is the population mean and standard deviation of the \"Total\" attribute for all characters in the Pokedex?\n",
    "\n"
   ]
  },
  {
   "cell_type": "markdown",
   "metadata": {
    "collapsed": true
   },
   "source": [
    "### Added Note : \n",
    "For the sake of simplicity I will be using numpy functions for this one."
   ]
  },
  {
   "cell_type": "code",
   "execution_count": 86,
   "metadata": {},
   "outputs": [
    {
     "name": "stdout",
     "output_type": "stream",
     "text": [
      "Total, mean : 434.75188916876573\n",
      "Total, standard deviation : 120.12531304418118\n"
     ]
    }
   ],
   "source": [
    "# Perhaps there's a more direct way to do this with dictionaries, but this is what I've got :\n",
    "# Put all 'Total' values into a list, and use numpy to get mean and standard deviation.\n",
    "total_mean = np.mean([v['Total'] for d,v in pokedex_dict.items()])\n",
    "total_std  = np.std([v['Total']  for d,v in pokedex_dict.items()])\n",
    "print('Total, mean : {}\\nTotal, standard deviation : {}'.format(total_mean, total_std))"
   ]
  },
  {
   "cell_type": "markdown",
   "metadata": {},
   "source": [
    "The mean of the Total attribute for all pokemon is : 434.75 <br>The standard deviation of the Total attribute for all pokemon is : 120.13"
   ]
  },
  {
   "cell_type": "markdown",
   "metadata": {},
   "source": [
    "<img src=\"http://imgur.com/l5NasQj.png\" style=\"float: left; margin: 25px 15px 0px 0px; height: 25px\">\n",
    "### 9.2\n",
    "\n",
    "The game is no fun if the characters are wildly unbalanced! Are any characters \"overpowered\", which we'll define as having a \"Total\" more than three standard deviations from the population mean?"
   ]
  },
  {
   "cell_type": "code",
   "execution_count": 88,
   "metadata": {},
   "outputs": [
    {
     "name": "stdout",
     "output_type": "stream",
     "text": [
      "Pokemon with Total attribute over 795.1278283013093, are overpowered\n"
     ]
    }
   ],
   "source": [
    "# Get the limit above which characters are considered overpowered : \n",
    "over9000 = total_mean + 3 * total_std\n",
    "print('Pokemon with Total attribute over {}, are overpowered'.format(over9000))"
   ]
  },
  {
   "cell_type": "code",
   "execution_count": 90,
   "metadata": {},
   "outputs": [
    {
     "name": "stdout",
     "output_type": "stream",
     "text": [
      "Overpowered pokemon are :\n",
      "150.1 : MewtwoMega Mewtwo X, Total = 800.0\n"
     ]
    }
   ],
   "source": [
    "# Now I'm just going to do a simple for loop, and print out the name and key of any overpowered pokemon.\n",
    "print('Overpowered pokemon are :')\n",
    "for pokedexNumber, pokemon in pokedex_dict.items():\n",
    "    if(pokemon['Total'] > over9000):\n",
    "        print('{} : {}, Total = {}'.format(pokemon['PokedexNumber'], pokemon['Name'], pokemon['Total']))"
   ]
  },
  {
   "cell_type": "markdown",
   "metadata": {},
   "source": [
    "I guess Mega Mewtwo X is the only over powered pokemon.\n",
    "<img src=\"https://cdn.bulbagarden.net/upload/7/7f/150Mewtwo-Mega_X.png\" style=\"float: center; margin: 25px 15px 50px 0px; height: 327px\"> "
   ]
  },
  {
   "cell_type": "markdown",
   "metadata": {},
   "source": [
    "<img src=\"http://imgur.com/xDpSobf.png\" style=\"float: left; margin: 25px 15px 0px 0px; height: 25px\">\n",
    "\n",
    "## 10. Calibrate the frequency of Pokemon\n",
    "\n",
    "The design team wants you to make the powerful Pokemon rare, and the weaklings more common. How would you set the probability $p_i$ of finding Pokemon *i* each time a player visits a gym?\n",
    "\n",
    "Write a function that takes in a Pokedex number and returns a value $p_i$ for that character.\n",
    "\n",
    "Hint: there are many ways you could do this. What do _you_ think makes sense? Start with simplifying assumptions: for example, you could assume that the probabilities of encountering any two Pokemon on one visit to a gym are independent of each other."
   ]
  },
  {
   "cell_type": "markdown",
   "metadata": {},
   "source": [
    "#### Answer :\n",
    "\n",
    "I suppose I could makeup a function, $p_i(T)$, which gives the probability as a function of the Total attribute.  Keeping in mind that the probablity has to be between 0 and 1, here is my completely made up function : \n",
    "\n",
    "\\begin{equation}\n",
    "p_i(T) = 1 - \\frac{T}{T_{max} + 0.001}\n",
    "\\end{equation}\n",
    "\n",
    "where $T_{max}$ is the highest value of $T$ in the pokedex (a.k.a Mega Mewtwo X).  The $+0.001$ is so that Mega Mewtwo still has a chance to appear."
   ]
  },
  {
   "cell_type": "markdown",
   "metadata": {},
   "source": [
    "### Change : \n",
    "I'm not sure how it's supposed to only take a pokemon's number, since the dictionary shouldn't be part of the function's scope.  Same thing for what is the maximum Total value.  So instead it's taking a pokemon's number and and the entire pokedex.  This is actually good because, then we can even have different distributions for filtered pokedexes.  While I'm at it, I'm adding the option to search by ID or Name.  This means that I'm passing the ID as\n",
    "a parameter."
   ]
  },
  {
   "cell_type": "code",
   "execution_count": 92,
   "metadata": {
    "collapsed": true
   },
   "outputs": [],
   "source": [
    "# Here is the function in practice\n",
    "def get_pokemon_probablity(pokedex_dict, pokemon_id='1.0', pokemon_name = ''):\n",
    "    ''' Return probablity of pokemon appearing at a gym.\n",
    "    '''\n",
    "    \n",
    "    # If pokemon_name is passed, match it to it's ID\n",
    "    if (pokemon_name != ''):\n",
    "        for k,v in pokedex_dict.items():\n",
    "            if(v['Name'] == pokemon_name):\n",
    "                pokemon_id = k\n",
    "\n",
    "                \n",
    "    # Make sure ID number is a string :\n",
    "    pokemon_id = str(pokemon_id)\n",
    "    \n",
    "    # Get maximum Total value\n",
    "    Tmax = max([v['Total'] for d,v in pokedex_dict.items()])\n",
    "    \n",
    "    # Extract pokemon's Total value\n",
    "    T = pokedex_dict[pokemon_id]['Total']\n",
    "    \n",
    "    # Get probability\n",
    "    p_i = 1 - T / (Tmax + 0.001)\n",
    "    \n",
    "    print('Probability of finding {} (ID = {}) is {}'.format(pokedex_dict[pokemon_id]['Name'], pokemon_id, p_i))\n",
    "    \n",
    "    return p_i"
   ]
  },
  {
   "cell_type": "code",
   "execution_count": 94,
   "metadata": {},
   "outputs": [
    {
     "name": "stdout",
     "output_type": "stream",
     "text": [
      "Probability of finding MewtwoMega Mewtwo X (ID = 150.1) is 1.249998437424793e-06\n",
      "Probability of finding Caterpie (ID = 10.0) is 0.7562503046871192\n",
      "191.0\n",
      "Probability of finding Sunkern (ID = 191.0) is 0.7750002812496484\n"
     ]
    },
    {
     "data": {
      "text/plain": [
       "0.7750002812496484"
      ]
     },
     "execution_count": 94,
     "metadata": {},
     "output_type": "execute_result"
    }
   ],
   "source": [
    "# Test function\n",
    "get_pokemon_probablity(pokedex_dict, 150.1)\n",
    "get_pokemon_probablity(pokedex_dict, pokemon_name='Caterpie')\n",
    "\n",
    "# Check to see if max probability is still <= 1\n",
    "tmin = min([v['Total'] for d,v in pokedex_dict.items()])\n",
    "for k,v in pokedex_dict.items():\n",
    "    if (v['Total'] == tmin):\n",
    "        print(k)\n",
    "get_pokemon_probablity(pokedex_dict, 191.0)\n"
   ]
  }
 ],
 "metadata": {
  "anaconda-cloud": {},
  "kernelspec": {
   "display_name": "Python 3",
   "language": "python",
   "name": "python3"
  },
  "language_info": {
   "codemirror_mode": {
    "name": "ipython",
    "version": 3
   },
   "file_extension": ".py",
   "mimetype": "text/x-python",
   "name": "python",
   "nbconvert_exporter": "python",
   "pygments_lexer": "ipython3",
   "version": "3.6.1"
  }
 },
 "nbformat": 4,
 "nbformat_minor": 1
}
